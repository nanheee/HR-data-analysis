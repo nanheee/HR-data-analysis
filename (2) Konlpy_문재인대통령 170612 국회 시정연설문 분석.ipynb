{
 "cells": [
  {
   "cell_type": "markdown",
   "metadata": {},
   "source": [
    "### Konlpy basic - website(http://konlpy-ko.readthedocs.io/ko/v0.4.3/)"
   ]
  },
  {
   "cell_type": "code",
   "execution_count": 1,
   "metadata": {},
   "outputs": [
    {
     "name": "stdout",
     "output_type": "stream",
     "text": [
      "수능을 앞두고 날이 급격히 추워 졌습니다.\n",
      "기온이 오르는 속도도 더디고 옷깃을 파고드는 찬바람에 체감 온도는 훨씬 더 낮은 상태입니다.\n",
      "현재 서울 기온은 6.4 도지만 찬바람 때문에 체감 온도 3도 안팎을 가리키고 있습니다.\n"
     ]
    }
   ],
   "source": [
    "from konlpy.tag import Kkma  # 꼬꼬마 형태소 분석기 사용\n",
    "\n",
    "kkma = Kkma()\n",
    "text = \"수능을 앞두고 날이 급격히 추워졌습니다. 기온이 오르는 속도도 더디고 옷깃을 파고드는 찬바람에 체감온도는 훨씬 더 낮은 상태입니다. 현재 서울 기온은 6.4도지만 찬바람 때문에 체감온도 3도 안팎을 가리키고 있습니다.\"\n",
    "\n",
    "sentences = kkma.sentences(text)\n",
    "for sentence in sentences:\n",
    "    print(sentence)"
   ]
  },
  {
   "cell_type": "code",
   "execution_count": 2,
   "metadata": {},
   "outputs": [
    {
     "data": {
      "text/plain": [
       "['수능',\n",
       " '날',\n",
       " '기온',\n",
       " '속도',\n",
       " '옷깃',\n",
       " '찬바람',\n",
       " '체감',\n",
       " '체감온도',\n",
       " '온도',\n",
       " '상태',\n",
       " '현재',\n",
       " '서울',\n",
       " '6.4',\n",
       " '6.4도지',\n",
       " '도지',\n",
       " '때문',\n",
       " '3',\n",
       " '3도',\n",
       " '도',\n",
       " '안팎']"
      ]
     },
     "execution_count": 2,
     "metadata": {},
     "output_type": "execute_result"
    }
   ],
   "source": [
    "kkma.nouns(text) #명사 어간만 뽑는다. 정확하지 않을 수 있다."
   ]
  },
  {
   "cell_type": "code",
   "execution_count": 3,
   "metadata": {},
   "outputs": [
    {
     "name": "stdout",
     "output_type": "stream",
     "text": [
      "[('수능', 'NNG'), ('을', 'JKO'), ('앞두', 'VV'), ('고', 'ECE'), ('날', 'NNG')]\n"
     ]
    }
   ],
   "source": [
    "pos_tag = kkma.pos(text)\n",
    "print(pos_tag[:5])"
   ]
  },
  {
   "cell_type": "markdown",
   "metadata": {},
   "source": [
    "- input 형태 = string"
   ]
  },
  {
   "cell_type": "code",
   "execution_count": 4,
   "metadata": {},
   "outputs": [
    {
     "data": {
      "text/plain": [
       "['constitution.txt']"
      ]
     },
     "execution_count": 4,
     "metadata": {},
     "output_type": "execute_result"
    }
   ],
   "source": [
    "# NLTK처럼 내장 데이터를 불러올 수도 있음\n",
    "\n",
    "from konlpy.corpus import kolaw\n",
    "fids = kolaw.fileids()\n",
    "fids"
   ]
  },
  {
   "cell_type": "markdown",
   "metadata": {},
   "source": [
    "\n"
   ]
  },
  {
   "cell_type": "markdown",
   "metadata": {},
   "source": [
    "# 문재인 대통령 2017.06.12. 국회 시정연설 전문\n",
    "\n",
    "## 실제 data 에 대해 문장 단위로 나눠보고 Pos tagging 해보기"
   ]
  },
  {
   "cell_type": "code",
   "execution_count": 6,
   "metadata": {},
   "outputs": [
    {
     "name": "stdout",
     "output_type": "stream",
     "text": [
      "['존경하는 국민 여러분, 정세균 국회의장님과 의원 여러분. 19대 국회 때 바로 이 자리에서 당대표 연설을 했습니다. 20대 국회에서 인사드리는 것은 처음이지만, 19대 국회에서 함께 활동했던 분들이 많아서 친근한 동료의식을 갖고 있습니다.', '', '지난 5월 10일, 저는 국회에서 엄숙한 마음으로 대통령 취임선서를 했습니다. 오늘은 정부가 추가경정예산안을 편성한 이유와 주요 내용을 직접 설명드리고 의원 여러분의 이해와 협조를 부탁드리고자 이 자리에 섰습니다.', '', '역대 가장 빠른 시기의 시정연설이자 사상 최초의 추경시정연설이라고 들었습니다. 국회와 더 긴밀하게 소통하고 협치하고자하는 저의 노력으로 받아들여주십시오. 그러나 그 보다 더 주목해주시기를 바라는 것은 일자리 추경의 절박성과 시급성입니다.']\n"
     ]
    }
   ],
   "source": [
    "with open('moon_170612.txt', 'r') as f:\n",
    "    lines = f.read().splitlines()\n",
    "print(lines[:5])"
   ]
  },
  {
   "cell_type": "code",
   "execution_count": 7,
   "metadata": {},
   "outputs": [
    {
     "name": "stdout",
     "output_type": "stream",
     "text": [
      "존경하는 국민 여러분, 정세균 국회의장님과 의원 여러분. 19대 국회 때 바로 이 자리에서 당대표 연설을 했습니다. 20대 국회에서 인사드리는 것은 처음이지만, 19대 국회에서 함께 활동했던 분들이 많아서 친근한 동료의식을 갖고 있습니다.\n",
      "지난 5월 10일, 저는 국회에서 엄숙한 마음으로 대통령 취임선서를 했습니다. 오늘은 정부가 추가경정예산안을 편성한 이유와 주요 내용을 직접 설명드리고 의원 여러분의 이해와 협조를 부탁드리고자 이 자리에 섰습니다.\n",
      "역대 가장 빠른 시기의 시정연설이자 사상 최초의 추경시정연설이라고 들었습니다. 국회와 더 긴밀하게 소통하고 협치하고자하는 저의 노력으로 받아들여주십시오. 그러나 그 보다 더 주목해주시기를 바라는 것은 일자리 추경의 절박성과 시급성입니다.\n"
     ]
    }
   ],
   "source": [
    "# 빈 문장 '' 제거  / 빈칸이면 무시하고 출력해라.\n",
    "sentences = [line for line in lines if line != '']\n",
    "\n",
    "\n",
    "for line in lines[:5]:\n",
    "    if line != '':\n",
    "        print(line)"
   ]
  },
  {
   "cell_type": "code",
   "execution_count": 8,
   "metadata": {
    "scrolled": true
   },
   "outputs": [
    {
     "name": "stdout",
     "output_type": "stream",
     "text": [
      "[('존경', 'NNG'), ('하', 'XSV'), ('는', 'ETM'), ('국민', 'NNG')]\n"
     ]
    }
   ],
   "source": [
    "# komoran을 이용한 형태소 분석\n",
    "\n",
    "from konlpy.tag import Komoran\n",
    "tagger = Komoran()\n",
    "tags = tagger.pos(sentences[0])\n",
    "\n",
    "# 함수 이름 찾을 때 tags = tagge.p 하고 tab키 누르면 알 수 있다. 패키지 마다 함수 이름이 다를 수 있기 때문에 확인하려면...\n",
    "\n",
    "print(tags[:4])"
   ]
  },
  {
   "cell_type": "code",
   "execution_count": 10,
   "metadata": {
    "scrolled": true
   },
   "outputs": [
    {
     "data": {
      "text/plain": [
       "[('존경', 'NNG'),\n",
       " ('하', 'XSV'),\n",
       " ('는', 'ETM'),\n",
       " ('국민', 'NNG'),\n",
       " ('여러분', 'NP'),\n",
       " (',', 'SP'),\n",
       " ('정세균', 'NNP'),\n",
       " ('국회의장', 'NNP'),\n",
       " ('님', 'XSN'),\n",
       " ('과', 'JC'),\n",
       " ('의원', 'NNG'),\n",
       " ('여러분', 'NP'),\n",
       " ('.', 'SF'),\n",
       " ('19', 'SN'),\n",
       " ('대', 'NNB'),\n",
       " ('국회', 'NNG'),\n",
       " ('때', 'NNG'),\n",
       " ('바로', 'MAG'),\n",
       " ('이', 'MM'),\n",
       " ('자리', 'NNG'),\n",
       " ('에서', 'JKB'),\n",
       " ('당', 'NNG'),\n",
       " ('대표', 'NNG'),\n",
       " ('연설', 'NNG'),\n",
       " ('을', 'JKO'),\n",
       " ('하', 'VV'),\n",
       " ('았', 'EP'),\n",
       " ('습니다', 'EF'),\n",
       " ('.', 'SF'),\n",
       " ('20', 'SN'),\n",
       " ('대', 'NNB'),\n",
       " ('국회', 'NNG'),\n",
       " ('에서', 'JKB'),\n",
       " ('인사', 'NNG'),\n",
       " ('드리', 'VV'),\n",
       " ('는', 'ETM'),\n",
       " ('것', 'NNB'),\n",
       " ('은', 'JX'),\n",
       " ('처음', 'NNG'),\n",
       " ('이', 'VCP'),\n",
       " ('지만', 'EC'),\n",
       " (',', 'SP'),\n",
       " ('19', 'SN'),\n",
       " ('대', 'NNB'),\n",
       " ('국회', 'NNG'),\n",
       " ('에서', 'JKB'),\n",
       " ('함께', 'MAG'),\n",
       " ('활동', 'NNG'),\n",
       " ('하', 'XSV'),\n",
       " ('았', 'EP'),\n",
       " ('던', 'ETM'),\n",
       " ('분', 'NNB'),\n",
       " ('들', 'XSN'),\n",
       " ('이', 'JKS'),\n",
       " ('많', 'VA'),\n",
       " ('아서', 'EC'),\n",
       " ('친근', 'XR'),\n",
       " ('하', 'XSA'),\n",
       " ('ㄴ', 'ETM'),\n",
       " ('동료', 'NNG'),\n",
       " ('의식', 'NNG'),\n",
       " ('을', 'JKO'),\n",
       " ('갖', 'VV'),\n",
       " ('고', 'EC'),\n",
       " ('있', 'VX'),\n",
       " ('습니다', 'EF'),\n",
       " ('.', 'SF')]"
      ]
     },
     "execution_count": 10,
     "metadata": {},
     "output_type": "execute_result"
    }
   ],
   "source": [
    "tagged_sentences = [tagger.pos(sent) for sent in sentences]\n",
    "tagged_sentences[0]"
   ]
  },
  {
   "cell_type": "code",
   "execution_count": 11,
   "metadata": {},
   "outputs": [
    {
     "data": {
      "text/plain": [
       "['존경', '국민', '정세균', '국회의장', '의원', '국회', '때', '자리', '당', '대표']"
      ]
     },
     "execution_count": 11,
     "metadata": {},
     "output_type": "execute_result"
    }
   ],
   "source": [
    "# 명사 리스트 만들어 보기 / 태그가 NNP, NNG로 시작하는 명사를 리스트\n",
    "noun_list = []\n",
    "\n",
    "for sent in tagged_sentences:    \n",
    "    for word, tag in sent:\n",
    "        if tag in ['NNP', 'NNG']:\n",
    "            noun_list.append(word)\n",
    "noun_list[:10]"
   ]
  },
  {
   "cell_type": "code",
   "execution_count": 12,
   "metadata": {},
   "outputs": [
    {
     "data": {
      "text/plain": [
       "[('일자리', 44),\n",
       " ('청년', 28),\n",
       " ('국민', 24),\n",
       " ('예산', 22),\n",
       " ('정부', 20),\n",
       " ('추경', 18),\n",
       " ('국회', 15),\n",
       " ('소득', 12),\n",
       " ('고용', 11),\n",
       " ('계층', 10),\n",
       " ('일', 9),\n",
       " ('이번', 9),\n",
       " ('지원', 9),\n",
       " ('의원', 8),\n",
       " ('국가', 8),\n",
       " ('민간', 8),\n",
       " ('취업', 7),\n",
       " ('중소기업', 7),\n",
       " ('창업', 7),\n",
       " ('민생', 7)]"
      ]
     },
     "execution_count": 12,
     "metadata": {},
     "output_type": "execute_result"
    }
   ],
   "source": [
    "# collection library를 이용하여 빈도수 계산하기\n",
    "from collections import Counter\n",
    "\n",
    "noun_counts = Counter(noun_list)\n",
    "noun_counts.most_common(20)"
   ]
  },
  {
   "cell_type": "markdown",
   "metadata": {},
   "source": [
    "### stop-words 리스트를 만들고 stop-words가 제거된 명사 리스트를 만들기."
   ]
  },
  {
   "cell_type": "code",
   "execution_count": 13,
   "metadata": {
    "collapsed": true
   },
   "outputs": [],
   "source": [
    "noun_list1 = []\n",
    "stop_words = ['일자리',\"청년\"]\n",
    "for sent in tagged_sentences:    \n",
    "    for word, tag in sent:\n",
    "        if tag in ['NNP', 'NNG']:\n",
    "            if word not in stop_words:\n",
    "                noun_list1.append(word)"
   ]
  },
  {
   "cell_type": "code",
   "execution_count": 14,
   "metadata": {},
   "outputs": [
    {
     "data": {
      "text/plain": [
       "[('국민', 24),\n",
       " ('예산', 22),\n",
       " ('정부', 20),\n",
       " ('추경', 18),\n",
       " ('국회', 15),\n",
       " ('소득', 12),\n",
       " ('고용', 11),\n",
       " ('계층', 10),\n",
       " ('일', 9),\n",
       " ('이번', 9)]"
      ]
     },
     "execution_count": 14,
     "metadata": {},
     "output_type": "execute_result"
    }
   ],
   "source": [
    "import collections\n",
    "\n",
    "noun_counts = collections.Counter(noun_list1)\n",
    "noun_counts.most_common(10) # '일자리'과 '청년'이 없어짐을 확인할 수 있음"
   ]
  },
  {
   "cell_type": "code",
   "execution_count": 15,
   "metadata": {
    "scrolled": true
   },
   "outputs": [
    {
     "data": {
      "image/png": "[encoded data removed]",
      "text/plain": [
       "<matplotlib.figure.Figure at 0x12bd15550>"
      ]
     },
     "metadata": {},
     "output_type": "display_data"
    },
    {
     "data": {
      "image/png": "[encoded data removed]",
      "text/plain": [
       "<matplotlib.figure.Figure at 0x10b0612b0>"
      ]
     },
     "metadata": {},
     "output_type": "display_data"
    }
   ],
   "source": [
    "import nltk\n",
    "import matplotlib.pyplot as plt # 결과를 시각화 하기 위한 matplotlib\n",
    "%matplotlib inline\n",
    "\n",
    "# word index 대신 word를 보여주는 그래프\n",
    "freqdist = nltk.FreqDist(noun_counts)\n",
    "\n",
    "plt.figure(figsize=(10,3))\n",
    "freqdist.plot(50)\n",
    "\n",
    "plt.figure(figsize=(10,3))\n",
    "freqdist.plot(50,cumulative=True)"
   ]
  },
  {
   "cell_type": "code",
   "execution_count": 16,
   "metadata": {},
   "outputs": [],
   "source": [
    "# 폰트 해결 / 네모를 해결해줌\n",
    "from matplotlib import font_manager, rc\n",
    "font_fname = '/Library/Fonts/AppleGothic.ttf'     # A font of your choice\n",
    "font_name = font_manager.FontProperties(fname=font_fname).get_name()\n",
    "rc('font', family=font_name)"
   ]
  },
  {
   "cell_type": "code",
   "execution_count": 18,
   "metadata": {
    "scrolled": true
   },
   "outputs": [
    {
     "data": {
      "image/png": "[encoded data removed]",
      "text/plain": [
       "<matplotlib.figure.Figure at 0x1382f5470>"
      ]
     },
     "metadata": {},
     "output_type": "display_data"
    },
    {
     "data": {
      "image/png": "[encoded data removed]",
      "text/plain": [
       "<matplotlib.figure.Figure at 0x138437c88>"
      ]
     },
     "metadata": {},
     "output_type": "display_data"
    }
   ],
   "source": [
    "plt.figure(figsize=(15,3))\n",
    "freqdist.plot(50)\n",
    "\n",
    "plt.figure(figsize=(15,3))\n",
    "freqdist.plot(50,cumulative=True)"
   ]
  },
  {
   "cell_type": "code",
   "execution_count": 19,
   "metadata": {},
   "outputs": [
    {
     "data": {
      "text/plain": [
       "{'5월 10일': 178,\n",
       " '가구': 202,\n",
       " '가래': 245,\n",
       " '가속': 208,\n",
       " '가슴': 230,\n",
       " '가운데': 279,\n",
       " '가정': 505,\n",
       " '가족': 445,\n",
       " '가축': 522,\n",
       " '각오': 107,\n",
       " '간격': 351,\n",
       " '감당': 25,\n",
       " '감독관': 331,\n",
       " '감사': 44,\n",
       " '감소': 396,\n",
       " '감안': 235,\n",
       " '감정노동': 92,\n",
       " '강화': 156,\n",
       " '개선': 38,\n",
       " '거리': 478,\n",
       " '거주': 313,\n",
       " '걱정거리': 511,\n",
       " '건강': 170,\n",
       " '검진': 376,\n",
       " '격차': 497,\n",
       " '결과': 78,\n",
       " '경기': 103,\n",
       " '경력': 145,\n",
       " '경륜': 213,\n",
       " '경우': 405,\n",
       " '경쟁력': 361,\n",
       " '경제': 163,\n",
       " '경제위기': 359,\n",
       " '경제지표': 333,\n",
       " '경찰관': 290,\n",
       " '경험': 271,\n",
       " '계속': 413,\n",
       " '계층': 56,\n",
       " '고려': 345,\n",
       " '고령화': 215,\n",
       " '고생': 315,\n",
       " '고용': 21,\n",
       " '고통': 297,\n",
       " '공공': 423,\n",
       " '공급': 369,\n",
       " '공동': 329,\n",
       " '공무원': 437,\n",
       " '공백': 523,\n",
       " '공부': 430,\n",
       " '공약': 411,\n",
       " '공제': 528,\n",
       " '공통': 466,\n",
       " '공포': 66,\n",
       " '과로사': 395,\n",
       " '과세': 293,\n",
       " '과정': 415,\n",
       " '과제': 121,\n",
       " '관': 3,\n",
       " '관련': 285,\n",
       " '관리': 260,\n",
       " '교대': 104,\n",
       " '교부': 179,\n",
       " '교부금': 32,\n",
       " '교사': 238,\n",
       " '교육': 250,\n",
       " '구급대원': 375,\n",
       " '구의역': 6,\n",
       " '구조': 167,\n",
       " '구직': 196,\n",
       " '구체': 291,\n",
       " '국가': 142,\n",
       " '국공립': 327,\n",
       " '국민': 222,\n",
       " '국정': 54,\n",
       " '국채': 7,\n",
       " '국회': 454,\n",
       " '국회의원': 474,\n",
       " '국회의장': 302,\n",
       " '군구': 226,\n",
       " '군무원': 401,\n",
       " '규모': 274,\n",
       " '극대': 448,\n",
       " '근로': 263,\n",
       " '근로시간': 409,\n",
       " '근로자': 357,\n",
       " '근본': 131,\n",
       " '근심': 495,\n",
       " '금년': 84,\n",
       " '급여': 241,\n",
       " '기간': 143,\n",
       " '기금': 18,\n",
       " '기대': 298,\n",
       " '기록': 61,\n",
       " '기본': 476,\n",
       " '기술': 332,\n",
       " '기여': 559,\n",
       " '기준': 463,\n",
       " '기초': 477,\n",
       " '기회': 280,\n",
       " '긴급': 307,\n",
       " '길': 181,\n",
       " '끝': 101,\n",
       " '낙후': 365,\n",
       " '난도': 296,\n",
       " '내년': 503,\n",
       " '내수': 371,\n",
       " '내용': 209,\n",
       " '내일': 502,\n",
       " '노력': 512,\n",
       " '노인': 548,\n",
       " '노후': 194,\n",
       " '누락': 378,\n",
       " '눈물': 204,\n",
       " '눈앞': 151,\n",
       " '뉴딜': 428,\n",
       " '다': 534,\n",
       " '다음': 239,\n",
       " '다음 생': 444,\n",
       " '단속': 440,\n",
       " '단절': 390,\n",
       " '달': 214,\n",
       " '담당': 429,\n",
       " '당': 367,\n",
       " '당부': 51,\n",
       " '당장': 20,\n",
       " '대기업': 312,\n",
       " '대다수': 363,\n",
       " '대란': 504,\n",
       " '대상': 223,\n",
       " '대선': 191,\n",
       " '대신': 459,\n",
       " '대원': 417,\n",
       " '대응': 264,\n",
       " '대의민주주의': 545,\n",
       " '대책': 126,\n",
       " '대체': 392,\n",
       " '대통령': 172,\n",
       " '대표': 426,\n",
       " '대학': 16,\n",
       " '대화': 319,\n",
       " '도소매': 380,\n",
       " '도시': 385,\n",
       " '도시재생': 46,\n",
       " '도움': 338,\n",
       " '도전': 228,\n",
       " '돈': 45,\n",
       " '돌': 138,\n",
       " '동료': 549,\n",
       " '동시': 195,\n",
       " '동안': 22,\n",
       " '때': 249,\n",
       " '량': 499,\n",
       " '마련': 243,\n",
       " '마음': 439,\n",
       " '마이너스': 335,\n",
       " '마중': 533,\n",
       " '마지막': 161,\n",
       " '마찬가지': 48,\n",
       " '만전': 341,\n",
       " '만족': 135,\n",
       " '말': 353,\n",
       " '말씀': 373,\n",
       " '매니저': 465,\n",
       " '머리': 258,\n",
       " '며칠': 451,\n",
       " '면접': 42,\n",
       " '모두': 119,\n",
       " '목돈': 354,\n",
       " '목숨': 480,\n",
       " '목적': 536,\n",
       " '문': 49,\n",
       " '문자': 268,\n",
       " '문제': 267,\n",
       " '문제 해결': 175,\n",
       " '물': 433,\n",
       " '미국': 124,\n",
       " '미래': 60,\n",
       " '미세먼지': 30,\n",
       " '민간': 393,\n",
       " '민생': 483,\n",
       " '민주주의': 434,\n",
       " '밀착': 4,\n",
       " '반면': 184,\n",
       " '반영': 144,\n",
       " '발표': 255,\n",
       " '발행': 304,\n",
       " '밤낮': 403,\n",
       " '방법': 140,\n",
       " '방역': 153,\n",
       " '방치': 316,\n",
       " '배': 481,\n",
       " '배정': 442,\n",
       " '배제': 47,\n",
       " '배치': 85,\n",
       " '백장': 193,\n",
       " '법정': 282,\n",
       " '베이비붐 세대': 129,\n",
       " '벼랑': 461,\n",
       " '벽': 160,\n",
       " '병가': 70,\n",
       " '보도': 31,\n",
       " '보육': 404,\n",
       " '보장': 542,\n",
       " '보조': 269,\n",
       " '보호': 180,\n",
       " '복지': 106,\n",
       " '봄': 203,\n",
       " '부담': 127,\n",
       " '부모': 388,\n",
       " '부문': 436,\n",
       " '부사관': 159,\n",
       " '부상': 186,\n",
       " '부양': 233,\n",
       " '부인': 494,\n",
       " '부족': 118,\n",
       " '부탁': 397,\n",
       " '분기': 424,\n",
       " '분배': 308,\n",
       " '분야': 524,\n",
       " '불명예': 43,\n",
       " '불평등': 344,\n",
       " '불합리': 487,\n",
       " '불황': 17,\n",
       " '불효': 446,\n",
       " '붐': 416,\n",
       " '비': 342,\n",
       " '비극': 368,\n",
       " '비상시국': 199,\n",
       " '비용': 9,\n",
       " '비중': 358,\n",
       " '빈곤': 139,\n",
       " '빚': 76,\n",
       " '사고': 39,\n",
       " '사람': 488,\n",
       " '사망': 295,\n",
       " '사상': 456,\n",
       " '사실': 543,\n",
       " '사업': 141,\n",
       " '사업장': 81,\n",
       " '사용': 253,\n",
       " '사전': 412,\n",
       " '사회': 561,\n",
       " '살인': 134,\n",
       " '삶': 164,\n",
       " '삶의 질': 99,\n",
       " '상담': 88,\n",
       " '상생': 278,\n",
       " '상위': 370,\n",
       " '상인': 272,\n",
       " '상황': 336,\n",
       " '새벽': 288,\n",
       " '새일센터': 386,\n",
       " '생각': 277,\n",
       " '생명': 346,\n",
       " '생활': 200,\n",
       " '서민': 206,\n",
       " '서비스': 63,\n",
       " '서비스업': 406,\n",
       " '선도': 443,\n",
       " '선호': 470,\n",
       " '설계사': 217,\n",
       " '설명': 14,\n",
       " '설치': 185,\n",
       " '성장': 306,\n",
       " '세': 270,\n",
       " '세계': 91,\n",
       " '세대': 82,\n",
       " '세수': 377,\n",
       " '센터': 97,\n",
       " '소득': 93,\n",
       " '소득자': 286,\n",
       " '소방관': 384,\n",
       " '소방차': 391,\n",
       " '소식': 550,\n",
       " '소통': 252,\n",
       " '속': 467,\n",
       " '손': 532,\n",
       " '손실': 137,\n",
       " '수당': 240,\n",
       " '수요': 546,\n",
       " '수준': 275,\n",
       " '수출': 526,\n",
       " '수혜자': 374,\n",
       " '숙박업': 407,\n",
       " '순위': 98,\n",
       " '순직': 472,\n",
       " '스크린도어': 149,\n",
       " '시': 339,\n",
       " '시기': 152,\n",
       " '시민': 381,\n",
       " '시일': 192,\n",
       " '시작': 322,\n",
       " '시장': 130,\n",
       " '시정': 398,\n",
       " '식당': 96,\n",
       " '신규': 72,\n",
       " '신설': 314,\n",
       " '실시': 356,\n",
       " '실업': 340,\n",
       " '실업률': 36,\n",
       " '실업자': 247,\n",
       " '실적': 326,\n",
       " '실정': 57,\n",
       " '실직': 90,\n",
       " '실질': 486,\n",
       " '실패': 485,\n",
       " '실효': 120,\n",
       " '아동': 183,\n",
       " '아들딸': 518,\n",
       " '아르바이트': 529,\n",
       " '아이': 79,\n",
       " '악화': 262,\n",
       " '안': 59,\n",
       " '안심': 324,\n",
       " '안전': 347,\n",
       " '안정': 246,\n",
       " '안팎': 219,\n",
       " '야당': 352,\n",
       " '어려움': 28,\n",
       " '어르신': 189,\n",
       " '어린이': 229,\n",
       " '어린이집': 65,\n",
       " '엄두': 551,\n",
       " '업무': 544,\n",
       " '업종': 300,\n",
       " '에코': 77,\n",
       " '여당': 71,\n",
       " '여력': 432,\n",
       " '여성': 83,\n",
       " '여유': 469,\n",
       " '역대': 462,\n",
       " '역량': 169,\n",
       " '역세권': 452,\n",
       " '연간': 266,\n",
       " '연결': 162,\n",
       " '연령': 387,\n",
       " '연설': 236,\n",
       " '영세': 27,\n",
       " '예방': 52,\n",
       " '예산': 148,\n",
       " '예산안': 328,\n",
       " '예상': 421,\n",
       " '예정': 147,\n",
       " '오늘': 318,\n",
       " '올해': 254,\n",
       " '완화': 55,\n",
       " '외환위기': 276,\n",
       " '요청': 489,\n",
       " '우려': 244,\n",
       " '우리나라': 58,\n",
       " '우선': 366,\n",
       " '우체국': 490,\n",
       " '운영': 471,\n",
       " '원인': 348,\n",
       " '위': 372,\n",
       " '위반': 501,\n",
       " '위안': 19,\n",
       " '유기': 150,\n",
       " '육박': 320,\n",
       " '육아': 299,\n",
       " '육아 휴직': 479,\n",
       " '육아휴직': 281,\n",
       " '은퇴': 310,\n",
       " '을': 514,\n",
       " '음식': 435,\n",
       " '응급': 311,\n",
       " '응답': 531,\n",
       " '의무자': 294,\n",
       " '의식': 94,\n",
       " '의원': 205,\n",
       " '이력서': 146,\n",
       " '이번': 292,\n",
       " '이상': 177,\n",
       " '이야기': 553,\n",
       " '이유': 157,\n",
       " '이제': 234,\n",
       " '이해': 309,\n",
       " '이후': 108,\n",
       " '인간': 506,\n",
       " '인력': 26,\n",
       " '인력난': 1,\n",
       " '인사': 174,\n",
       " '인상': 207,\n",
       " '인생': 556,\n",
       " '인수': 552,\n",
       " '인식': 166,\n",
       " '인원': 8,\n",
       " '일': 221,\n",
       " '일석이조': 537,\n",
       " '일시': 212,\n",
       " '일자리': 399,\n",
       " '임금': 261,\n",
       " '임대': 408,\n",
       " '입시': 362,\n",
       " '입학': 350,\n",
       " '잉여금': 23,\n",
       " '자금': 10,\n",
       " '자녀': 500,\n",
       " '자리': 558,\n",
       " '자살률': 132,\n",
       " '자식': 251,\n",
       " '자영업자': 110,\n",
       " '자체': 382,\n",
       " '작성': 554,\n",
       " '장사': 50,\n",
       " '장치': 389,\n",
       " '재기': 64,\n",
       " '재난': 154,\n",
       " '재정': 509,\n",
       " '저출산': 431,\n",
       " '적극': 67,\n",
       " '적립금': 114,\n",
       " '전': 482,\n",
       " '전국': 173,\n",
       " '전체': 538,\n",
       " '전환': 323,\n",
       " '절반': 136,\n",
       " '절벽': 321,\n",
       " '정도': 95,\n",
       " '정부': 498,\n",
       " '정비': 176,\n",
       " '정상화': 564,\n",
       " '정세균': 89,\n",
       " '정책': 441,\n",
       " '정치': 507,\n",
       " '제도': 418,\n",
       " '제일': 427,\n",
       " '조금': 460,\n",
       " '조기': 402,\n",
       " '존경': 562,\n",
       " '존엄': 86,\n",
       " '존중': 516,\n",
       " '종사': 419,\n",
       " '종업원': 383,\n",
       " '주': 123,\n",
       " '주거': 334,\n",
       " '주목': 301,\n",
       " '주민': 425,\n",
       " '주택': 420,\n",
       " '준비': 12,\n",
       " '중소기업': 410,\n",
       " '중심': 337,\n",
       " '중앙': 100,\n",
       " '중점': 563,\n",
       " '증가': 37,\n",
       " '증세': 496,\n",
       " '증원': 394,\n",
       " '지갑': 457,\n",
       " '지금': 113,\n",
       " '지난해': 68,\n",
       " '지방': 520,\n",
       " '지방자치단체': 438,\n",
       " '지속': 201,\n",
       " '지역': 210,\n",
       " '지원': 87,\n",
       " '지체': 13,\n",
       " '지킴이': 168,\n",
       " '지혜': 265,\n",
       " '직무': 510,\n",
       " '직시': 171,\n",
       " '직업': 519,\n",
       " '진입': 447,\n",
       " '집': 248,\n",
       " '집배원': 527,\n",
       " '집중': 102,\n",
       " '집행': 379,\n",
       " '차량': 158,\n",
       " '차이': 325,\n",
       " '차지': 541,\n",
       " '참여': 80,\n",
       " '창업': 349,\n",
       " '창업자': 555,\n",
       " '창출': 53,\n",
       " '채용': 330,\n",
       " '책임': 34,\n",
       " '처방': 197,\n",
       " '처음': 284,\n",
       " '청년': 317,\n",
       " '청년 실업': 35,\n",
       " '청년실업': 422,\n",
       " '체감': 190,\n",
       " '체불': 33,\n",
       " '초등학교': 75,\n",
       " '촉진': 133,\n",
       " '최고': 117,\n",
       " '최근': 225,\n",
       " '최대': 547,\n",
       " '최대한': 257,\n",
       " '최선': 0,\n",
       " '최소': 165,\n",
       " '최소한': 69,\n",
       " '최저임금': 492,\n",
       " '최초': 513,\n",
       " '추가': 455,\n",
       " '추가경정예산': 24,\n",
       " '추경': 237,\n",
       " '추세': 122,\n",
       " '추진': 187,\n",
       " '출근': 115,\n",
       " '출범': 287,\n",
       " '출산': 464,\n",
       " '출퇴근': 74,\n",
       " '충원': 216,\n",
       " '취업': 449,\n",
       " '취임선서': 2,\n",
       " '취직': 62,\n",
       " '측정': 453,\n",
       " '치매': 109,\n",
       " '카드': 560,\n",
       " '탑승': 227,\n",
       " '태풍': 360,\n",
       " '통계': 517,\n",
       " '통계청': 355,\n",
       " '통과': 232,\n",
       " '통합': 29,\n",
       " '투입': 458,\n",
       " '투자': 273,\n",
       " '투표': 256,\n",
       " '특단': 112,\n",
       " '판단': 468,\n",
       " '패러다임': 41,\n",
       " '펀드': 283,\n",
       " '편성': 40,\n",
       " '폐가': 128,\n",
       " '포함': 289,\n",
       " '필요': 116,\n",
       " '하루': 259,\n",
       " '하반기': 540,\n",
       " '하수': 530,\n",
       " '하위': 231,\n",
       " '학교장': 414,\n",
       " '한': 11,\n",
       " '한정': 73,\n",
       " '항구': 105,\n",
       " '해결': 211,\n",
       " '해당': 220,\n",
       " '해법': 188,\n",
       " '해소': 557,\n",
       " '해주시': 364,\n",
       " '행복': 305,\n",
       " '향상': 155,\n",
       " '허락': 125,\n",
       " '허심탄회': 535,\n",
       " '현상': 473,\n",
       " '현장': 242,\n",
       " '현재': 303,\n",
       " '협력': 515,\n",
       " '협의': 400,\n",
       " '협조': 491,\n",
       " '형식': 508,\n",
       " '호미': 475,\n",
       " '호소': 484,\n",
       " '혼자': 493,\n",
       " '확대': 15,\n",
       " '확정': 182,\n",
       " '확충': 450,\n",
       " '환경': 111,\n",
       " '환경미화원': 539,\n",
       " '환자': 198,\n",
       " '활동': 224,\n",
       " '활용': 525,\n",
       " '효과': 5,\n",
       " '흐름': 218,\n",
       " '희망': 343,\n",
       " '힘': 521}"
      ]
     },
     "execution_count": 19,
     "metadata": {},
     "output_type": "execute_result"
    }
   ],
   "source": [
    "# unique한 명사 리스트 만들기\n",
    "\n",
    "unique_nouns = set()\n",
    "unique_list = []\n",
    "\n",
    "for sent in tagged_sentences:\n",
    "    for word, tag in sent:\n",
    "        if tag in ['NNP','NNG']:\n",
    "            if word not in unique_list:\n",
    "                unique_list.append(word)\n",
    "                \n",
    "for sent in tagged_sentences:    \n",
    "    for word, tag in sent:\n",
    "        if tag in ['NNP', 'NNG']:\n",
    "            unique_nouns.add(word)\n",
    "\n",
    "unique_nouns = list(unique_nouns)\n",
    "noun_index = {noun: i for i, noun in enumerate(unique_nouns)} # 딕셔너리 형태의 자료구조\n",
    "noun_index"
   ]
  },
  {
   "cell_type": "markdown",
   "metadata": {},
   "source": [
    "### 문장-단어 행렬"
   ]
  },
  {
   "cell_type": "code",
   "execution_count": 20,
   "metadata": {},
   "outputs": [
    {
     "data": {
      "text/plain": [
       "(71, 565)"
      ]
     },
     "execution_count": 20,
     "metadata": {},
     "output_type": "execute_result"
    }
   ],
   "source": [
    "import numpy as np\n",
    "# 문장 길이 X 명사 종류 matrix 생성\n",
    "occurs = np.zeros([len(tagged_sentences), len(unique_nouns)])\n",
    "np.shape(occurs)"
   ]
  },
  {
   "cell_type": "code",
   "execution_count": 21,
   "metadata": {
    "scrolled": true
   },
   "outputs": [
    {
     "data": {
      "text/plain": [
       "array([ 0.,  0.,  0.,  0.,  0.,  0.,  0.,  0.,  0.,  0.,  0.,  0.,  0.,\n",
       "        0.,  0.,  0.,  0.,  0.,  0.,  0.,  0.,  0.,  0.,  0.,  0.,  0.,\n",
       "        0.,  0.,  0.,  0.,  0.,  0.,  0.,  0.,  0.,  0.,  0.,  0.,  0.,\n",
       "        0.,  0.,  0.,  0.,  0.,  0.,  0.,  0.,  0.,  0.,  0.,  0.,  0.,\n",
       "        0.,  0.,  0.,  0.,  0.,  0.,  0.,  0.,  0.,  0.,  0.,  0.,  0.,\n",
       "        0.,  0.,  0.,  0.,  0.,  0.,  0.,  0.,  0.,  0.,  0.,  0.,  0.,\n",
       "        0.,  0.,  0.,  0.,  0.,  0.,  0.,  0.,  0.,  0.,  0.,  1.,  0.,\n",
       "        0.,  0.,  0.,  1.,  0.,  0.,  0.,  0.,  0.,  0.,  0.,  0.,  0.,\n",
       "        0.,  0.,  0.,  0.,  0.,  0.,  0.,  0.,  0.,  0.,  0.,  0.,  0.,\n",
       "        0.,  0.,  0.,  0.,  0.,  0.,  0.,  0.,  0.,  0.,  0.,  0.,  0.,\n",
       "        0.,  0.,  0.,  0.,  0.,  0.,  0.,  0.,  0.,  0.,  0.,  0.,  0.,\n",
       "        0.,  0.,  0.,  0.,  0.,  0.,  0.,  0.,  0.,  0.,  0.,  0.,  0.,\n",
       "        0.,  0.,  0.,  0.,  0.,  0.,  0.,  0.,  0.,  0.,  0.,  0.,  0.,\n",
       "        0.,  0.,  0.,  0.,  0.,  1.,  0.,  0.,  0.,  0.,  0.,  0.,  0.,\n",
       "        0.,  0.,  0.,  0.,  0.,  0.,  0.,  0.,  0.,  0.,  0.,  0.,  0.,\n",
       "        0.,  0.,  0.,  0.,  0.,  0.,  0.,  0.,  0.,  0.,  1.,  0.,  0.,\n",
       "        0.,  0.,  0.,  0.,  0.,  0.,  0.,  0.,  0.,  0.,  0.,  0.,  0.,\n",
       "        0.,  1.,  0.,  1.,  0.,  0.,  0.,  0.,  0.,  0.,  0.,  0.,  0.,\n",
       "        0.,  0.,  1.,  0.,  0.,  0.,  0.,  0.,  0.,  0.,  0.,  0.,  0.,\n",
       "        0.,  0.,  1.,  0.,  0.,  0.,  0.,  0.,  0.,  0.,  0.,  0.,  0.,\n",
       "        0.,  0.,  0.,  0.,  0.,  0.,  0.,  0.,  0.,  0.,  0.,  0.,  0.,\n",
       "        0.,  0.,  0.,  0.,  0.,  0.,  0.,  0.,  0.,  0.,  0.,  1.,  0.,\n",
       "        0.,  0.,  0.,  0.,  0.,  0.,  0.,  0.,  0.,  0.,  0.,  0.,  0.,\n",
       "        0.,  0.,  0.,  1.,  0.,  0.,  0.,  0.,  0.,  0.,  0.,  0.,  0.,\n",
       "        0.,  0.,  0.,  0.,  0.,  0.,  0.,  0.,  0.,  0.,  0.,  0.,  0.,\n",
       "        0.,  0.,  0.,  0.,  0.,  0.,  0.,  0.,  0.,  0.,  0.,  0.,  0.,\n",
       "        0.,  0.,  0.,  0.,  0.,  0.,  0.,  0.,  0.,  0.,  0.,  0.,  0.,\n",
       "        0.,  0.,  0.,  0.,  0.,  0.,  0.,  0.,  0.,  0.,  0.,  0.,  0.,\n",
       "        0.,  0.,  0.,  1.,  0.,  0.,  0.,  0.,  0.,  0.,  0.,  0.,  0.,\n",
       "        0.,  0.,  0.,  0.,  0.,  0.,  0.,  0.,  0.,  0.,  0.,  0.,  0.,\n",
       "        0.,  0.,  0.,  0.,  0.,  0.,  0.,  0.,  0.,  0.,  0.,  0.,  0.,\n",
       "        0.,  0.,  0.,  0.,  0.,  0.,  0.,  0.,  0.,  0.,  0.,  0.,  0.,\n",
       "        0.,  0.,  0.,  0.,  0.,  0.,  0.,  0.,  0.,  0.,  1.,  0.,  0.,\n",
       "        0.,  0.,  0.,  0.,  0.,  0.,  0.,  0.,  0.,  0.,  0.,  0.,  0.,\n",
       "        0.,  0.,  0.,  0.,  0.,  0.,  0.,  0.,  0.,  0.,  0.,  0.,  1.,\n",
       "        0.,  0.,  0.,  0.,  0.,  0.,  0.,  0.,  0.,  0.,  0.,  0.,  0.,\n",
       "        0.,  0.,  0.,  0.,  0.,  0.,  0.,  0.,  0.,  0.,  0.,  0.,  0.,\n",
       "        0.,  0.,  0.,  0.,  0.,  0.,  0.,  0.,  0.,  0.,  0.,  0.,  0.,\n",
       "        0.,  0.,  0.,  0.,  0.,  0.,  0.,  0.,  0.,  0.,  0.,  0.,  0.,\n",
       "        0.,  0.,  0.,  0.,  0.,  0.,  0.,  0.,  0.,  0.,  0.,  0.,  0.,\n",
       "        0.,  0.,  0.,  0.,  0.,  0.,  0.,  0.,  0.,  0.,  0.,  0.,  0.,\n",
       "        0.,  0.,  0.,  0.,  0.,  0.,  0.,  0.,  0.,  0.,  0.,  0.,  0.,\n",
       "        0.,  0.,  0.,  1.,  0.,  0.,  0.,  0.,  0.,  0.,  0.,  0.,  1.,\n",
       "        0.,  0.,  0.,  1.,  0.,  0.])"
      ]
     },
     "execution_count": 21,
     "metadata": {},
     "output_type": "execute_result"
    }
   ],
   "source": [
    "for i, sent in enumerate(tagged_sentences):\n",
    "    for word, tag in sent:\n",
    "        if tag in ['NNP', 'NNG']:\n",
    "            index = noun_index[word]  # 명사가 있으면, 그 명사의 인덱스를 index에 저정\n",
    "            occurs[i][index] = 1  # 문장 i의 index 자리에 1을 채워 넣는다.\n",
    "            \n",
    "occurs[0]"
   ]
  },
  {
   "cell_type": "code",
   "execution_count": 22,
   "metadata": {
    "collapsed": true
   },
   "outputs": [],
   "source": [
    "# 공존 단어 행렬 계산\n",
    "# i 번째 단어\n",
    "co_occurs = occurs.T.dot(occurs)"
   ]
  },
  {
   "cell_type": "code",
   "execution_count": 23,
   "metadata": {
    "scrolled": false
   },
   "outputs": [
    {
     "name": "stdout",
     "output_type": "stream",
     "text": [
      "계층 고용 2.0\n",
      "서비스 고용 2.0\n",
      "서비스 인력 2.0\n",
      "세대 에코 2.0\n",
      "지원 고용 2.0\n",
      "지원 창출 2.0\n",
      "소득 고용 2.0\n",
      "소득 계층 2.0\n",
      "정도 실정 2.0\n"
     ]
    }
   ],
   "source": [
    "for i in range(100):\n",
    "    for j in range(100):\n",
    "        if (co_occurs[i][j] > 1) & (i>j):\n",
    "            print(unique_nouns[i], unique_nouns[j], co_occurs[i][j])"
   ]
  },
  {
   "cell_type": "markdown",
   "metadata": {},
   "source": [
    "##  "
   ]
  },
  {
   "cell_type": "markdown",
   "metadata": {},
   "source": [
    "### 네트워크 그리기"
   ]
  },
  {
   "cell_type": "code",
   "execution_count": 24,
   "metadata": {
    "collapsed": true
   },
   "outputs": [],
   "source": [
    "%matplotlib inline\n",
    "import matplotlib.pyplot as plt"
   ]
  },
  {
   "cell_type": "code",
   "execution_count": 25,
   "metadata": {
    "collapsed": true
   },
   "outputs": [],
   "source": [
    "#네트워크를 다운 받아야 함\n",
    "\n",
    "import networkx as nx\n",
    "graph = nx.Graph()\n",
    "\n",
    "for i in range(len(unique_nouns)):\n",
    "    for j in range(i + 1, len(unique_nouns)):\n",
    "        if co_occurs[i][j] > 4:\n",
    "            graph.add_edge(unique_nouns[i], unique_nouns[j])"
   ]
  },
  {
   "cell_type": "code",
   "execution_count": 26,
   "metadata": {
    "collapsed": true
   },
   "outputs": [],
   "source": [
    "krfont = {'family' : 'nanumgothic', 'weight' : 'bold', 'size'   : 10}\n",
    "plt.rc('font',**krfont)"
   ]
  },
  {
   "cell_type": "code",
   "execution_count": 28,
   "metadata": {},
   "outputs": [
    {
     "name": "stderr",
     "output_type": "stream",
     "text": [
      "/Users/nanhee/anaconda/lib/python3.6/site-packages/networkx/drawing/nx_pylab.py:126: MatplotlibDeprecationWarning: pyplot.hold is deprecated.\n",
      "    Future behavior will be consistent with the long-time default:\n",
      "    plot commands add elements without first clearing the\n",
      "    Axes and/or Figure.\n",
      "  b = plt.ishold()\n",
      "/Users/nanhee/anaconda/lib/python3.6/site-packages/networkx/drawing/nx_pylab.py:138: MatplotlibDeprecationWarning: pyplot.hold is deprecated.\n",
      "    Future behavior will be consistent with the long-time default:\n",
      "    plot commands add elements without first clearing the\n",
      "    Axes and/or Figure.\n",
      "  plt.hold(b)\n",
      "/Users/nanhee/anaconda/lib/python3.6/site-packages/matplotlib/__init__.py:917: UserWarning: axes.hold is deprecated. Please remove it from your matplotlibrc and/or style files.\n",
      "  warnings.warn(self.msg_depr_set % key)\n",
      "/Users/nanhee/anaconda/lib/python3.6/site-packages/matplotlib/rcsetup.py:152: UserWarning: axes.hold is deprecated, will be removed in 3.0\n",
      "  warnings.warn(\"axes.hold is deprecated, will be removed in 3.0\")\n",
      "/Users/nanhee/anaconda/lib/python3.6/site-packages/matplotlib/font_manager.py:1297: UserWarning: findfont: Font family ['nanumgothic'] not found. Falling back to DejaVu Sans\n",
      "  (prop.get_family(), self.defaultFamily[fontext]))\n"
     ]
    },
    {
     "data": {
      "image/png": "[encoded data removed]",
      "text/plain": [
       "<matplotlib.figure.Figure at 0x138c34ac8>"
      ]
     },
     "metadata": {},
     "output_type": "display_data"
    }
   ],
   "source": [
    "plt.figure(figsize=(15, 15))\n",
    "layout = nx.spring_layout(graph, k=.1)\n",
    "nx.draw(graph, pos=layout, with_labels=True,\n",
    "        font_size=20, font_family='AppleGothic',\n",
    "        alpha=0.3, node_size=3000)\n",
    "plt.show()"
   ]
  }
 ],
 "metadata": {
  "kernelspec": {
   "display_name": "Python 3",
   "language": "python",
   "name": "python3"
  },
  "language_info": {
   "codemirror_mode": {
    "name": "ipython",
    "version": 3
   },
   "file_extension": ".py",
   "mimetype": "text/x-python",
   "name": "python",
   "nbconvert_exporter": "python",
   "pygments_lexer": "ipython3",
   "version": "3.6.1"
  }
 },
 "nbformat": 4,
 "nbformat_minor": 1
}
