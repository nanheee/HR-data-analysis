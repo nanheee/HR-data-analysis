{
 "cells": [
  {
   "cell_type": "markdown",
   "metadata": {},
   "source": [
    "### NLTK 기본 사용법\n",
    "* pip install nltk를 통해 설치\n",
    "* 특정 모듈을 다운로드하기 위해서는 nltk.download()를 사용"
   ]
  },
  {
   "cell_type": "code",
   "execution_count": 1,
   "metadata": {
    "collapsed": true
   },
   "outputs": [],
   "source": [
    "import nltk\n",
    "\n",
    "# nltk.download() \n",
    "# nltk.download('maxent_treebank_pos_tagger')"
   ]
  },
  {
   "cell_type": "markdown",
   "metadata": {},
   "source": [
    "#### nltk에서 제공되는 gutenberg data read"
   ]
  },
  {
   "cell_type": "code",
   "execution_count": 2,
   "metadata": {
    "scrolled": true
   },
   "outputs": [
    {
     "data": {
      "text/plain": [
       "['austen-emma.txt',\n",
       " 'austen-persuasion.txt',\n",
       " 'austen-sense.txt',\n",
       " 'bible-kjv.txt',\n",
       " 'blake-poems.txt',\n",
       " 'bryant-stories.txt',\n",
       " 'burgess-busterbrown.txt',\n",
       " 'carroll-alice.txt',\n",
       " 'chesterton-ball.txt',\n",
       " 'chesterton-brown.txt',\n",
       " 'chesterton-thursday.txt',\n",
       " 'edgeworth-parents.txt',\n",
       " 'melville-moby_dick.txt',\n",
       " 'milton-paradise.txt',\n",
       " 'shakespeare-caesar.txt',\n",
       " 'shakespeare-hamlet.txt',\n",
       " 'shakespeare-macbeth.txt',\n",
       " 'whitman-leaves.txt']"
      ]
     },
     "execution_count": 2,
     "metadata": {},
     "output_type": "execute_result"
    }
   ],
   "source": [
    "from nltk.corpus import gutenberg\n",
    "\n",
    "# 저장되어 있는 데이터 로드 및 파일 제목 확인\n",
    "gutenberg_files = gutenberg.fileids()\n",
    "gutenberg_files"
   ]
  },
  {
   "cell_type": "code",
   "execution_count": 3,
   "metadata": {},
   "outputs": [
    {
     "name": "stdout",
     "output_type": "stream",
     "text": [
      "[Emma by Jane Austen 1816]\n",
      "\n",
      "VOLUME I\n",
      "\n",
      "CHAPTER I\n",
      "\n",
      "\n",
      "Emma Woodhouse, handsome, clever, and rich, with a comfortable home\n",
      "and happy disposition, seemed to unite some of the best blessings\n",
      "of existence; an\n"
     ]
    }
   ],
   "source": [
    "# 특정 텍스트 확인\n",
    "gutenberg_doc = gutenberg.open('austen-emma.txt').read()\n",
    "print(gutenberg_doc[:200])"
   ]
  },
  {
   "cell_type": "markdown",
   "metadata": {},
   "source": [
    "#### Tokenize"
   ]
  },
  {
   "cell_type": "code",
   "execution_count": 4,
   "metadata": {},
   "outputs": [
    {
     "data": {
      "text/plain": [
       "['At',\n",
       " 'eight',\n",
       " \"o'clock\",\n",
       " 'on',\n",
       " 'Thursday',\n",
       " 'morning',\n",
       " '...',\n",
       " 'Arthur',\n",
       " 'did',\n",
       " \"n't\",\n",
       " 'feel',\n",
       " 'very',\n",
       " 'good',\n",
       " '.']"
      ]
     },
     "execution_count": 4,
     "metadata": {},
     "output_type": "execute_result"
    }
   ],
   "source": [
    "# tokenize - 띄어쓰기 기준으로 단어를 분리하여 list 형태로 저장\n",
    "\n",
    "sentence = \"\"\"At eight o'clock on Thursday morning ... Arthur didn't feel very good.\"\"\"\n",
    "\n",
    "tokens = nltk.word_tokenize(sentence) #nltk의 word_tokenize 함수를 써서 sentence를 tokenize한다\n",
    "tokens"
   ]
  },
  {
   "cell_type": "markdown",
   "metadata": {},
   "source": [
    "#### PoS tagging"
   ]
  },
  {
   "cell_type": "code",
   "execution_count": 5,
   "metadata": {
    "scrolled": true
   },
   "outputs": [
    {
     "name": "stdout",
     "output_type": "stream",
     "text": [
      "('At', 'IN')\n",
      "('eight', 'CD')\n",
      "(\"o'clock\", 'NN')\n",
      "('on', 'IN')\n",
      "('Thursday', 'NNP')\n",
      "('morning', 'NN')\n",
      "('...', ':')\n",
      "('Arthur', 'NNP')\n",
      "('did', 'VBD')\n",
      "(\"n't\", 'RB')\n",
      "('feel', 'VB')\n",
      "('very', 'RB')\n",
      "('good', 'JJ')\n",
      "('.', '.')\n"
     ]
    }
   ],
   "source": [
    "# Pos tagging - token 단위로 Pos를 추가하여 tuple - list 형태로 저장 \n",
    "\n",
    "tagged = nltk.pos_tag(tokens) #tokens의 안의 list자료를 pos_tag함수에 넣어 준다. / tag를 투플로 구성된 리스트 형식으로 \n",
    "tagged\n",
    "for word in tagged:\n",
    "    print(word)"
   ]
  },
  {
   "cell_type": "code",
   "execution_count": 6,
   "metadata": {},
   "outputs": [
    {
     "name": "stdout",
     "output_type": "stream",
     "text": [
      "did/VBD\n",
      "feel/VB\n"
     ]
    }
   ],
   "source": [
    "for word in tagged: \n",
    "    if word[1][0] == 'V':\n",
    "        print(word[0].lower()+'/'+word[1])\n",
    "#투플형태에서 동사만 뽑아 줌. word[1]은 두번째 자리 'IN'에서 [0]은 첫번째 자리 I이게 'V'이면 프린트 해라.\n",
    "\n",
    "# 같은 표현 = list comprehension\n",
    "tagged_word = [word[0].lower()+'/'+word[1] for word in tagged if word[1][0] == 'N']"
   ]
  },
  {
   "cell_type": "code",
   "execution_count": 7,
   "metadata": {},
   "outputs": [
    {
     "data": {
      "text/plain": [
       "[\"o'clock/NN\", 'thursday/NNP', 'morning/NN', 'arthur/NNP']"
      ]
     },
     "execution_count": 7,
     "metadata": {},
     "output_type": "execute_result"
    }
   ],
   "source": [
    "# 결과 확인\n",
    "tagged_word"
   ]
  },
  {
   "cell_type": "markdown",
   "metadata": {},
   "source": [
    "### Alphabetical list of part-of-speech tags used in the Penn Treebank Project:\n",
    "https://www.cis.upenn.edu/~treebank/\n",
    "\n",
    "```CC Coordinating conjunction\n",
    "CD Cardinal number\n",
    "DT Determiner\n",
    "EX Existential there\n",
    "FW Foreign word\n",
    "IN Preposition or subordinating conjunction\n",
    "JJ Adjective\n",
    "JJR Adjective, comparative\n",
    "JJS Adjective, superlative\n",
    "LS List item marker\n",
    "MD Modal\n",
    "NN Noun, singular or mass\n",
    "NNS Noun, plural\n",
    "NNP Proper noun, singular\n",
    "NNPS Proper noun, plural\n",
    "PDT Predeterminer\n",
    "POS Possessive ending\n",
    "PRP Personal pronoun\n",
    "PRP$ Possessive pronoun\n",
    "RB Adverb\n",
    "RBR Adverb, comparative\n",
    "RBS Adverb, superlative\n",
    "RP Particle\n",
    "SYM Symbol\n",
    "TO to\n",
    "UH Interjection\n",
    "VB Verb, base form\n",
    "VBD Verb, past tense\n",
    "VBG Verb, gerund or present participle\n",
    "VBN Verb, past participle\n",
    "VBP Verb, non­3rd person singular present\n",
    "VBZ Verb, 3rd person singular present\n",
    "WDT Wh­determiner\n",
    "WP Wh­pronoun\n",
    "WP$ Possessive wh­pronoun\n",
    "WRB Wh­adverb```"
   ]
  },
  {
   "cell_type": "markdown",
   "metadata": {},
   "source": [
    "#### 이전에 불러온 gutenberg_doc 데이터를 가지고 tokenize + Pos tag를 해보자"
   ]
  },
  {
   "cell_type": "code",
   "execution_count": 8,
   "metadata": {
    "collapsed": true
   },
   "outputs": [],
   "source": [
    "gutenberg_tokens = nltk.word_tokenize(gutenberg_doc)\n",
    "gutenberg_tagged = nltk.pos_tag(gutenberg_tokens)"
   ]
  },
  {
   "cell_type": "code",
   "execution_count": 9,
   "metadata": {},
   "outputs": [
    {
     "name": "stdout",
     "output_type": "stream",
     "text": [
      "Processed time =  12.496500015258789\n"
     ]
    }
   ],
   "source": [
    "# 시간을 체크하고 싶다면 time library를 사용해보자\n",
    "# %%timeit\n",
    "import time\n",
    "\n",
    "start_time = time.time()\n",
    "## 실행 코드\n",
    "gutenberg_tokens = nltk.word_tokenize(gutenberg_doc)\n",
    "gutenberg_tagged = nltk.pos_tag(gutenberg_tokens)\n",
    "\n",
    "print(\"Processed time = \",(time.time() - start_time))"
   ]
  },
  {
   "cell_type": "code",
   "execution_count": 10,
   "metadata": {
    "scrolled": true
   },
   "outputs": [
    {
     "data": {
      "text/plain": [
       "['[', 'Emma', 'by', 'Jane', 'Austen', '1816', ']', 'VOLUME', 'I', 'CHAPTER']"
      ]
     },
     "execution_count": 10,
     "metadata": {},
     "output_type": "execute_result"
    }
   ],
   "source": [
    "gutenberg_tokens[:10] #짤려진 토큰의 0부터 10개를 출력해주세요."
   ]
  },
  {
   "cell_type": "code",
   "execution_count": 11,
   "metadata": {},
   "outputs": [
    {
     "data": {
      "text/plain": [
       "[('[', 'NNS'),\n",
       " ('Emma', 'NNP'),\n",
       " ('by', 'IN'),\n",
       " ('Jane', 'NNP'),\n",
       " ('Austen', 'NNP'),\n",
       " ('1816', 'CD'),\n",
       " (']', 'NNP'),\n",
       " ('VOLUME', 'NNP'),\n",
       " ('I', 'PRP'),\n",
       " ('CHAPTER', 'VBP')]"
      ]
     },
     "execution_count": 11,
     "metadata": {},
     "output_type": "execute_result"
    }
   ],
   "source": [
    "gutenberg_tagged[:10]"
   ]
  },
  {
   "cell_type": "markdown",
   "metadata": {},
   "source": [
    "### 실습 1 : Gutenberg file에서 다른 텍스트 데이터를 읽고 tokenize + PoS tagging"
   ]
  },
  {
   "cell_type": "code",
   "execution_count": 12,
   "metadata": {
    "collapsed": true
   },
   "outputs": [],
   "source": [
    "gutenberg_doc = gutenberg.open('shakespeare-hamlet.txt').read()\n",
    "gutenberg_tokens = nltk.word_tokenize(gutenberg_doc)\n",
    "gutenberg_tagged = nltk.pos_tag(gutenberg_tokens)"
   ]
  },
  {
   "cell_type": "code",
   "execution_count": 13,
   "metadata": {},
   "outputs": [
    {
     "data": {
      "text/plain": [
       "['[',\n",
       " 'The',\n",
       " 'Tragedie',\n",
       " 'of',\n",
       " 'Hamlet',\n",
       " 'by',\n",
       " 'William',\n",
       " 'Shakespeare',\n",
       " '1599',\n",
       " ']']"
      ]
     },
     "execution_count": 13,
     "metadata": {},
     "output_type": "execute_result"
    }
   ],
   "source": [
    "gutenberg_tokens[:10]"
   ]
  },
  {
   "cell_type": "code",
   "execution_count": 14,
   "metadata": {
    "scrolled": true
   },
   "outputs": [
    {
     "data": {
      "text/plain": [
       "[('[', 'IN'),\n",
       " ('The', 'DT'),\n",
       " ('Tragedie', 'NNP'),\n",
       " ('of', 'IN'),\n",
       " ('Hamlet', 'NNP'),\n",
       " ('by', 'IN'),\n",
       " ('William', 'NNP'),\n",
       " ('Shakespeare', 'NNP'),\n",
       " ('1599', 'CD'),\n",
       " (']', 'NNP')]"
      ]
     },
     "execution_count": 14,
     "metadata": {},
     "output_type": "execute_result"
    }
   ],
   "source": [
    "gutenberg_tagged[:10]"
   ]
  },
  {
   "cell_type": "code",
   "execution_count": 22,
   "metadata": {},
   "outputs": [
    {
     "data": {
      "text/plain": [
       "['tragedie/NNP',\n",
       " 'hamlet/NNP',\n",
       " 'william/NNP',\n",
       " 'shakespeare/NNP',\n",
       " ']/NNP',\n",
       " 'actus/NNP',\n",
       " 'primus/NNP',\n",
       " 'scoena/NNP',\n",
       " 'prima/NNP',\n",
       " 'enter/NNP',\n",
       " 'barnardo/NNP',\n",
       " 'francisco/NNP',\n",
       " 'centinels/NNP',\n",
       " 'barnardo/NNP',\n",
       " 'fran/NNP',\n",
       " 'nay/NNP',\n",
       " 'stand/NNP',\n",
       " 'bar/NNP',\n",
       " 'long/NNP',\n",
       " 'king/NNP']"
      ]
     },
     "execution_count": 22,
     "metadata": {},
     "output_type": "execute_result"
    }
   ],
   "source": [
    "#햄릿에서 NNP인걸 찾아보는 함수를 짜보기\n",
    "NNP_list = []\n",
    "\n",
    "for word in gutenberg_tagged: \n",
    "    if word[1] == 'NNP' :\n",
    "            NNP_list.append(word[0].lower()+'/'+word[1])\n",
    "            \n",
    "NNP_list[:20]"
   ]
  },
  {
   "cell_type": "markdown",
   "metadata": {},
   "source": [
    "#### Stemming (or lemmatizing)\n",
    "단어의 어근을 추출하기 위해 stemming!\n",
    "\n",
    "Lemmatisation is closely related to stemming. The difference is that a stemmer operates on a single word without knowledge of the context, and therefore cannot discriminate between words which have different meanings depending on part of speech. However, stemmers are typically easier to implement and run faster, and the reduced accuracy may not matter for some applications.\n",
    "\n",
    "The word \"meeting\" can be either the base form of a noun or a form of a verb (\"to meet\") depending on the context, e.g., \"in our last meeting\" or \"We are meeting again tomorrow\". Unlike stemming, lemmatisation can in principle select the appropriate lemma depending on the context."
   ]
  },
  {
   "cell_type": "code",
   "execution_count": 23,
   "metadata": {},
   "outputs": [
    {
     "data": {
      "text/plain": [
       "['[',\n",
       " 'The',\n",
       " 'Tragedie',\n",
       " 'of',\n",
       " 'Hamlet',\n",
       " 'by',\n",
       " 'William',\n",
       " 'Shakespeare',\n",
       " '1599',\n",
       " ']',\n",
       " 'Actus',\n",
       " 'Primus',\n",
       " '.',\n",
       " 'Scoena',\n",
       " 'Prima',\n",
       " '.',\n",
       " 'Enter',\n",
       " 'Barnardo',\n",
       " 'and',\n",
       " 'Francisco']"
      ]
     },
     "execution_count": 23,
     "metadata": {},
     "output_type": "execute_result"
    }
   ],
   "source": [
    "# lemmatization\n",
    "lemma = nltk.wordnet.WordNetLemmatizer()\n",
    "gutenberg_lemma = []\n",
    "\n",
    "# 분리한 token에 대하여 nltk lemmatizing 하고 그 결과를 lemma list에 추가\n",
    "for token in gutenberg_tokens:\n",
    "    gutenberg_lemma.append(lemma.lemmatize(token))\n",
    "\n",
    "gutenberg_lemma[:20]"
   ]
  },
  {
   "cell_type": "code",
   "execution_count": 24,
   "metadata": {},
   "outputs": [
    {
     "data": {
      "text/plain": [
       "[('[', 'IN'),\n",
       " ('The', 'DT'),\n",
       " ('Tragedie', 'NNP'),\n",
       " ('of', 'IN'),\n",
       " ('Hamlet', 'NNP'),\n",
       " ('by', 'IN'),\n",
       " ('William', 'NNP'),\n",
       " ('Shakespeare', 'NNP'),\n",
       " ('1599', 'CD'),\n",
       " (']', 'NNP'),\n",
       " ('Actus', 'NNP'),\n",
       " ('Primus', 'NNP'),\n",
       " ('.', '.'),\n",
       " ('Scoena', 'NNP'),\n",
       " ('Prima', 'NNP'),\n",
       " ('.', '.'),\n",
       " ('Enter', 'NNP'),\n",
       " ('Barnardo', 'NNP'),\n",
       " ('and', 'CC'),\n",
       " ('Francisco', 'NNP')]"
      ]
     },
     "execution_count": 24,
     "metadata": {},
     "output_type": "execute_result"
    }
   ],
   "source": [
    "# tokenizing -> lemmatizing -> PoS tagging\n",
    "\n",
    "gutenberg_lemma_tagged = nltk.pos_tag(gutenberg_lemma)\n",
    "gutenberg_lemma_tagged[:20]"
   ]
  },
  {
   "cell_type": "code",
   "execution_count": 25,
   "metadata": {},
   "outputs": [
    {
     "data": {
      "text/plain": [
       "['[',\n",
       " 'the',\n",
       " 'tragedi',\n",
       " 'of',\n",
       " 'hamlet',\n",
       " 'by',\n",
       " 'william',\n",
       " 'shakespear',\n",
       " '1599',\n",
       " ']',\n",
       " 'actu',\n",
       " 'primu',\n",
       " '.',\n",
       " 'scoena',\n",
       " 'prima',\n",
       " '.',\n",
       " 'enter',\n",
       " 'barnardo',\n",
       " 'and',\n",
       " 'francisco']"
      ]
     },
     "execution_count": 25,
     "metadata": {},
     "output_type": "execute_result"
    }
   ],
   "source": [
    "# stemming\n",
    "\n",
    "from nltk.stem.porter import PorterStemmer\n",
    "porter_stemmer = PorterStemmer()\n",
    "gutenberg_stemmed = []\n",
    "for token in gutenberg_tokens:\n",
    "    gutenberg_stemmed.append(porter_stemmer.stem(token))\n",
    "\n",
    "gutenberg_stemmed[:20]"
   ]
  },
  {
   "cell_type": "code",
   "execution_count": 26,
   "metadata": {},
   "outputs": [
    {
     "name": "stdout",
     "output_type": "stream",
     "text": [
      "2.377685070037842\n"
     ]
    }
   ],
   "source": [
    "start_time = time.time()\n",
    "gutenberg_stemmed_tagged = nltk.pos_tag(gutenberg_stemmed)\n",
    "print(time.time() - start_time)\n",
    "#gutenberg_stemmed_tagged"
   ]
  },
  {
   "cell_type": "code",
   "execution_count": 27,
   "metadata": {},
   "outputs": [
    {
     "name": "stdout",
     "output_type": "stream",
     "text": [
      "run\n",
      "running\n"
     ]
    }
   ],
   "source": [
    "# compare Stemming & Lemmatization\n",
    "print(porter_stemmer.stem('running')) #stemmer는 running을 run(기본형)으로 바꿔준다.\n",
    "print(lemma.lemmatize('running'))"
   ]
  },
  {
   "cell_type": "markdown",
   "metadata": {},
   "source": [
    "### Collection library\n",
    "-  https://docs.python.org/3/library/collections.html#collections.Counter.most_common"
   ]
  },
  {
   "cell_type": "code",
   "execution_count": 61,
   "metadata": {},
   "outputs": [
    {
     "name": "stdout",
     "output_type": "stream",
     "text": [
      "[((',', ','), 2892), (('.', '.'), 1879), (('the', 'DT'), 993), (('and', 'CC'), 862), (('of', 'IN'), 576), (('to', 'TO'), 574), ((':', ':'), 566), (('I', 'PRP'), 550), (('you', 'PRP'), 522), (('?', '.'), 459), (('a', 'DT'), 435), (('my', 'PRP$'), 435), (('it', 'PRP'), 354), (('is', 'VBZ'), 349), (('in', 'IN'), 347), (('not', 'RB'), 327), ((';', ':'), 298), (('ham', 'NN'), 292), (('your', 'PRP$'), 259), (('with', 'IN'), 254), (('but', 'CC'), 249), (('for', 'IN'), 243), (('that', 'IN'), 233), (('me', 'PRP'), 230), (('what', 'WP'), 212), (('lord', 'NN'), 204), (('be', 'VB'), 186), (('him', 'PRP'), 178), (('he', 'PRP'), 160), (('thi', 'NN'), 153), (('will', 'MD'), 152), (('king', 'NN'), 149), (('so', 'RB'), 138), ((\"'d\", 'MD'), 135), (('our', 'PRP$'), 132), (('hi', 'NN'), 131), (('as', 'IN'), 126), (('are', 'VBP'), 121), (('on', 'IN'), 115), (('thi', 'JJ'), 112), (('To', 'TO'), 109), (('then', 'RB'), 108), (('shall', 'MD'), 107), (('hi', 'JJ'), 100), (('good', 'JJ'), 98), (('we', 'PRP'), 98), (('hamlet', 'NN'), 96), (('let', 'VB'), 95), (('now', 'RB'), 92), (('all', 'DT'), 92), (('hor', 'NN'), 91), (('by', 'IN'), 90), (('haue', 'VBP'), 89), (('how', 'WRB'), 89), (('that', 'WDT'), 88), (('they', 'PRP'), 88), (('from', 'IN'), 87), (('no', 'DT'), 86), (('her', 'PRP$'), 81), (('come', 'VB'), 77), (('like', 'IN'), 76), (('or', 'CC'), 73), (('enter', 'NN'), 70), (('at', 'IN'), 69), (('would', 'MD'), 68), (('them', 'PRP'), 67), (('may', 'MD'), 65), (('It', 'PRP'), 65), (('there', 'EX'), 65), (('well', 'RB'), 64), (('if', 'IN'), 64), ((\"'s\", 'VBZ'), 63), (('do', 'VBP'), 63), (('Qu', 'NNP'), 62), (('can', 'MD'), 61), (('which', 'WDT'), 60), (('did', 'VBD'), 60), (('father', 'NN'), 60), (('must', 'MD'), 58), ((\"'s\", 'POS'), 56), (('where', 'WRB'), 56), (('that', 'DT'), 55), (('As', 'IN'), 54), (('should', 'MD'), 54), (('Oh', 'UH'), 54), (('too', 'RB'), 53), (('more', 'RBR'), 53), (('thi', 'VB'), 52), (('one', 'CD'), 52), (('when', 'WRB'), 51), (('time', 'NN'), 51), (('man', 'NN'), 51), (('am', 'VBP'), 50), (('laer', 'NN'), 50), (('thou', 'NN'), 49), (('A', 'DT'), 48), (('an', 'DT'), 48), (('their', 'PRP$'), 48), (('If', 'IN'), 47), (('loue', 'NN'), 46)]\n"
     ]
    }
   ],
   "source": [
    "import collections # token으로 나눠진 데이터를 딕셔너리 형태로 변환 + 편리한 함수를 제공하는 library\n",
    "import numpy as np\n",
    "import pandas as pd\n",
    "\n",
    "import matplotlib.pyplot as plt # 결과를 시각화 하기 위한 matplotlib\n",
    "%matplotlib inline\n",
    "\n",
    "\n",
    "# token - frequency 형태로 변환 : collections.Counter 함수! \n",
    "# 투플로 구성된 것의 빈도수를 제공. ex) 'the'는 DT형태이고, 993번 나옴.\n",
    "print(collections.Counter(gutenberg_stemmed_tagged).most_common(100))"
   ]
  },
  {
   "cell_type": "code",
   "execution_count": 62,
   "metadata": {},
   "outputs": [
    {
     "name": "stdout",
     "output_type": "stream",
     "text": [
      "[(',', ','), ('.', '.'), ('the', 'DT'), ('and', 'CC')]\n",
      "[2892, 1879, 993, 862]\n"
     ]
    }
   ],
   "source": [
    "# tuple 형태로 저장되어 있는 데이터를 token, frequency로 나눠서 저장\n",
    "token_list = []\n",
    "freq_list = []\n",
    "for token, freq in collections.Counter(gutenberg_stemmed_tagged).most_common(10):\n",
    "    token_list.append(token)\n",
    "    freq_list.append(freq)\n",
    "    \n",
    "print(token_list[:4])\n",
    "print(freq_list[:4])"
   ]
  },
  {
   "cell_type": "code",
   "execution_count": 63,
   "metadata": {},
   "outputs": [
    {
     "data": {
      "text/html": [
       "<div>\n",
       "<style>\n",
       "    .dataframe thead tr:only-child th {\n",
       "        text-align: right;\n",
       "    }\n",
       "\n",
       "    .dataframe thead th {\n",
       "        text-align: left;\n",
       "    }\n",
       "\n",
       "    .dataframe tbody tr th {\n",
       "        vertical-align: top;\n",
       "    }\n",
       "</style>\n",
       "<table border=\"1\" class=\"dataframe\">\n",
       "  <thead>\n",
       "    <tr style=\"text-align: right;\">\n",
       "      <th></th>\n",
       "      <th>word</th>\n",
       "      <th>tag</th>\n",
       "      <th>freq</th>\n",
       "    </tr>\n",
       "  </thead>\n",
       "  <tbody>\n",
       "    <tr>\n",
       "      <th>0</th>\n",
       "      <td>,</td>\n",
       "      <td>,</td>\n",
       "      <td>2892</td>\n",
       "    </tr>\n",
       "    <tr>\n",
       "      <th>1</th>\n",
       "      <td>.</td>\n",
       "      <td>.</td>\n",
       "      <td>1879</td>\n",
       "    </tr>\n",
       "    <tr>\n",
       "      <th>2</th>\n",
       "      <td>the</td>\n",
       "      <td>DT</td>\n",
       "      <td>993</td>\n",
       "    </tr>\n",
       "    <tr>\n",
       "      <th>3</th>\n",
       "      <td>and</td>\n",
       "      <td>CC</td>\n",
       "      <td>862</td>\n",
       "    </tr>\n",
       "    <tr>\n",
       "      <th>4</th>\n",
       "      <td>of</td>\n",
       "      <td>IN</td>\n",
       "      <td>576</td>\n",
       "    </tr>\n",
       "  </tbody>\n",
       "</table>\n",
       "</div>"
      ],
      "text/plain": [
       "  word tag  freq\n",
       "0    ,   ,  2892\n",
       "1    .   .  1879\n",
       "2  the  DT   993\n",
       "3  and  CC   862\n",
       "4   of  IN   576"
      ]
     },
     "execution_count": 63,
     "metadata": {},
     "output_type": "execute_result"
    }
   ],
   "source": [
    "# list로 나눈 데이터를 pandas 형태로 저장\n",
    "data = pd.concat([pd.DataFrame(token_list),pd.DataFrame(freq_list)], axis=1)\n",
    "data.columns = ['word','tag','freq']\n",
    "data.head()"
   ]
  },
  {
   "cell_type": "code",
   "execution_count": 66,
   "metadata": {},
   "outputs": [
    {
     "data": {
      "image/png": "[encoded data removed]",
      "text/plain": [
       "<matplotlib.figure.Figure at 0x125299d30>"
      ]
     },
     "metadata": {},
     "output_type": "display_data"
    },
    {
     "data": {
      "image/png": "[encoded data removed]",
      "text/plain": [
       "<matplotlib.figure.Figure at 0x128d13f28>"
      ]
     },
     "metadata": {},
     "output_type": "display_data"
    }
   ],
   "source": [
    "# word index 대신 word를 보여주는 그래프\n",
    "freqdist = nltk.FreqDist(gutenberg_lemma_tagged)\n",
    "plt.figure(figsize=(10,5))\n",
    "freqdist.plot(50)\n",
    "\n",
    "plt.figure(figsize=(10,5))\n",
    "freqdist.plot(50,cumulative=True)"
   ]
  },
  {
   "cell_type": "markdown",
   "metadata": {},
   "source": [
    "#### 결과를 살펴보면 ','과 '.' 같이 단어가 아닌 문자가 높은 frequency를 가지고 있음\n",
    "#### Stop-words 제거 필요"
   ]
  },
  {
   "cell_type": "code",
   "execution_count": 67,
   "metadata": {},
   "outputs": [
    {
     "name": "stdout",
     "output_type": "stream",
     "text": [
      "0 few\n",
      "1 t\n",
      "2 aren\n",
      "3 here\n",
      "4 ourselves\n",
      "5 after\n",
      "6 why\n",
      "7 most\n",
      "8 nor\n",
      "9 have\n",
      "10 to\n",
      "11 hasn\n",
      "12 a\n",
      "13 them\n",
      "14 shouldn\n",
      "15 not\n",
      "16 other\n",
      "17 i\n",
      "18 on\n",
      "19 in\n"
     ]
    }
   ],
   "source": [
    "# nltk에서 제공되는 stop word 사용\n",
    "from nltk.corpus import stopwords\n",
    "\n",
    "stop_words = set(stopwords.words('english'))\n",
    "\n",
    "for index, ele in enumerate(stop_words):\n",
    "    if index<20:\n",
    "        print(index,ele)    "
   ]
  },
  {
   "cell_type": "code",
   "execution_count": 68,
   "metadata": {},
   "outputs": [
    {
     "data": {
      "text/plain": [
       "['tragedie',\n",
       " 'hamlet',\n",
       " 'william',\n",
       " 'shakespeare',\n",
       " '1599',\n",
       " 'actus',\n",
       " 'primus',\n",
       " 'scoena',\n",
       " 'prima',\n",
       " 'enter']"
      ]
     },
     "execution_count": 68,
     "metadata": {},
     "output_type": "execute_result"
    }
   ],
   "source": [
    "# domain specific stop-words를 update하여 사용할 수 도 있음 #아래부분을 제거해서 출력\n",
    "\n",
    "stop_words.update(['.', ',', '\"', \"'\", '?', '!', ':', ';', '(', ')', '[', ']', '{', '}'])\n",
    "\n",
    "# 대소문자가 다르게 인식되기 때문에 lowercase로 변환하여 사용\n",
    "filtered_words = [word[0].lower() for word in gutenberg_lemma_tagged if word[0].lower() not in stop_words]\n",
    "filtered_tag = [word[1].lower() for word in gutenberg_lemma_tagged if word[0].lower() not in stop_words]\n",
    "filtered_words[:10]"
   ]
  },
  {
   "cell_type": "code",
   "execution_count": 71,
   "metadata": {},
   "outputs": [
    {
     "data": {
      "image/png": "[encoded data removed]",
      "text/plain": [
       "<matplotlib.figure.Figure at 0x129a84898>"
      ]
     },
     "metadata": {},
     "output_type": "display_data"
    },
    {
     "data": {
      "image/png": "[encoded data removed]",
      "text/plain": [
       "<matplotlib.figure.Figure at 0x129bf6438>"
      ]
     },
     "metadata": {},
     "output_type": "display_data"
    }
   ],
   "source": [
    "# stop word list에 'mr.' 추가하면 없어짐\n",
    "freqdist = nltk.FreqDist(filtered_words)\n",
    "plt.figure(figsize=(10,3))\n",
    "freqdist.plot(50)\n",
    "\n",
    "plt.figure(figsize=(10,3))\n",
    "freqdist.plot(50,cumulative=True)"
   ]
  },
  {
   "cell_type": "markdown",
   "metadata": {},
   "source": [
    "### 실습 3 - 명사만 추출하여 고유한 리스트를 만들어 보자"
   ]
  },
  {
   "cell_type": "code",
   "execution_count": 72,
   "metadata": {
    "collapsed": true
   },
   "outputs": [],
   "source": [
    "# Dataframe 설정\n",
    "result = pd.DataFrame()\n",
    "result['filtered_word'] = filtered_words\n",
    "result['filtered_freq'] = filtered_tag\n",
    "\n",
    "# csv 형태로 저장\n",
    "result.to_csv(\"filtered_word.csv\")"
   ]
  },
  {
   "cell_type": "code",
   "execution_count": null,
   "metadata": {
    "collapsed": true
   },
   "outputs": [],
   "source": []
  }
 ],
 "metadata": {
  "kernelspec": {
   "display_name": "Python 3",
   "language": "python",
   "name": "python3"
  },
  "language_info": {
   "codemirror_mode": {
    "name": "ipython",
    "version": 3
   },
   "file_extension": ".py",
   "mimetype": "text/x-python",
   "name": "python",
   "nbconvert_exporter": "python",
   "pygments_lexer": "ipython3",
   "version": "3.6.1"
  }
 },
 "nbformat": 4,
 "nbformat_minor": 1
}
